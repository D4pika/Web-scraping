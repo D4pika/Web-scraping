{
 "cells": [
  {
   "cell_type": "markdown",
   "metadata": {},
   "source": [
    "# Using python to send emails "
   ]
  },
  {
   "cell_type": "markdown",
   "metadata": {},
   "source": [
    "## Author: \n",
    "    Mihir Bhatia "
   ]
  },
  {
   "cell_type": "code",
   "execution_count": 4,
   "metadata": {},
   "outputs": [],
   "source": [
    "import smtplib\n",
    " \n",
    "def sendemail(from_addr, to_addr_list, cc_addr_list,\n",
    "              subject, message,\n",
    "              login, password,\n",
    "              smtpserver='smtp.gmail.com:587'):\n",
    "    header  = 'From: %s' % from_addr\n",
    "    header += 'To: %s' % ','.join(to_addr_list)\n",
    "    header += 'Cc: %s' % ','.join(cc_addr_list)\n",
    "    header += 'Subject: %s' % subject\n",
    "    message = header + message\n",
    " \n",
    "    server = smtplib.SMTP(smtpserver)\n",
    "    server.starttls()\n",
    "    server.login(login,password)\n",
    "    problems = server.sendmail(from_addr, to_addr_list, message)\n",
    "    server.quit()\n",
    "    "
   ]
  },
  {
   "cell_type": "code",
   "execution_count": 6,
   "metadata": {},
   "outputs": [],
   "source": [
    "sendemail(from_addr = 'krannertdcmme@gmail.com', to_addr_list = ['mihirbhatia999@gmail.com'],\n",
    "          cc_addr_list = ['djindal@purdue.edu'],subject = 'Test mail',message = 'this is a test mail 2 using Python',\n",
    "          login = 'krannertdcmme', password = 'Abc12345!', smtpserver = 'smtp.gmail.com:587')"
   ]
  }
 ],
 "metadata": {
  "kernelspec": {
   "display_name": "Python 3",
   "language": "python",
   "name": "python3"
  },
  "language_info": {
   "codemirror_mode": {
    "name": "ipython",
    "version": 3
   },
   "file_extension": ".py",
   "mimetype": "text/x-python",
   "name": "python",
   "nbconvert_exporter": "python",
   "pygments_lexer": "ipython3",
   "version": "3.6.4"
  }
 },
 "nbformat": 4,
 "nbformat_minor": 2
}
